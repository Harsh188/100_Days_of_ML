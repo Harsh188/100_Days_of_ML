{
 "cells": [
  {
   "cell_type": "markdown",
   "metadata": {},
   "source": [
    "# Clustering"
   ]
  },
  {
   "cell_type": "markdown",
   "metadata": {},
   "source": [
    "## Unsupervised Algorithms\n",
    "Typically, unsupervised algorithms make infrences from datasets using only input vectors without reffering to known, or labelled, outcomes."
   ]
  },
  {
   "cell_type": "markdown",
   "metadata": {},
   "source": [
    "## K-Means Clustering\n",
    "K-Means groups similar data points together and discovers underlying patterns. It does this by looking for a fixed number (k) of clusters in the dataset.\n",
    "\n",
    "_Clusters are a collection of data points aggregated together because of certain similaritied_\n",
    "\n",
    "**Steps**\n",
    "1. Initialize cluster centroids\n",
    "2. Repeat until convergence\n",
    "    - Color the points\n",
    "    - Move the cluster centroids\n",
    "\n",
    "**Description**\n",
    "K-means starts off with randomly selected centroids, which are used as the beginning points for every cluster then performs iterative calculations to optimize the positions of the centroids. The algorithm stops when either the centroids have been stabalized or if the number of iterations have been met."
   ]
  },
  {
   "cell_type": "markdown",
   "metadata": {},
   "source": [
    "## K-means algorithm example problem\n"
   ]
  }
 ],
 "metadata": {
  "kernelspec": {
   "display_name": "Python 3",
   "language": "python",
   "name": "python3"
  },
  "language_info": {
   "codemirror_mode": {
    "name": "ipython",
    "version": 3
   },
   "file_extension": ".py",
   "mimetype": "text/x-python",
   "name": "python",
   "nbconvert_exporter": "python",
   "pygments_lexer": "ipython3",
   "version": "3.8.5"
  }
 },
 "nbformat": 4,
 "nbformat_minor": 4
}
