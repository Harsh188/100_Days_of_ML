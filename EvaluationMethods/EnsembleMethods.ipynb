{
 "cells": [
  {
   "cell_type": "markdown",
   "metadata": {},
   "source": [
    "## Ensemble Methods\n",
    "The goal of ensemble methods is to combine the predictions of several base estimators built with a given learning algorithm in order to improve generalizability / robustness over a single estimator. [scikitlearn](https://scikit-learn.org/stable/modules/ensemble.html)\n",
    "\n",
    "Take Xi's which are random variables (RV) that are independent identically distributed (iid). then $$ Var(Xi) = sigma^2$$ $$Var(xbar) = Var(1/n * summation(Xi)) = sigma^2/n$$\n",
    "\n",
    "We can simplify this by dropping the independence assumption so now Xi's are i.d X's correlated by p $$Var(xbar) = p sigma^2 + (1-p)/n * sigma^2 $$"
   ]
  },
  {
   "cell_type": "markdown",
   "metadata": {},
   "source": [
    "## Ways to ensemble \n",
    "1. Utilize differnt algorithms\n",
    "2. Utilize differnt training sets\n",
    "3. Bagging (Random forests)\n",
    "4. Boosting (Adaboost, xgboost)"
   ]
  },
  {
   "cell_type": "markdown",
   "metadata": {},
   "source": [
    "### Bagging\n",
    "Bagging pretty much stands for **Bootstrap Aggregation**\n",
    "- Bootstraping just assumes that your population is your sample.\n",
    "   - So you end up getting bootstrap samples Z~S (With replacement)\n",
    "   - Bootstrapping is driving down P\n",
    "   - Increasing M which results in less variance.\n",
    "   - Bias is slightly increased due to random subsampling."
   ]
  },
  {
   "cell_type": "markdown",
   "metadata": {},
   "source": [
    "### Boosting\n",
    "Boosting is almost the opposite of Bagging. In Boosting we are trying to **decrease bias**. It is an additive process."
   ]
  },
  {
   "cell_type": "code",
   "execution_count": null,
   "metadata": {},
   "outputs": [],
   "source": []
  }
 ],
 "metadata": {
  "kernelspec": {
   "display_name": "Python 3",
   "language": "python",
   "name": "python3"
  },
  "language_info": {
   "codemirror_mode": {
    "name": "ipython",
    "version": 3
   },
   "file_extension": ".py",
   "mimetype": "text/x-python",
   "name": "python",
   "nbconvert_exporter": "python",
   "pygments_lexer": "ipython3",
   "version": "3.8.5"
  }
 },
 "nbformat": 4,
 "nbformat_minor": 4
}
