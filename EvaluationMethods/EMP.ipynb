{
 "cells": [
  {
   "cell_type": "markdown",
   "metadata": {},
   "source": [
    "# Empirical Risk Minimization\n",
    "Empirical risk minimization is a principle in statistical learning theory which defines a family of learning algorithms and is used to give theoretical bounds on their performance.\n",
    "\n",
    "![Diagram](https://miro.medium.com/max/600/1*2bKzRvoZvsiLw840CcjGlA.png)"
   ]
  },
  {
   "cell_type": "markdown",
   "metadata": {},
   "source": [
    "## Uniform Convergence\n",
    "There are two main questions we are going to explore in uniform convergence.\n",
    "1. If we do EMP what does that say about the genralization error?\n",
    "2. How does the genralization error of the learned hypothesis compare to the best possible genralization error of that class?\n",
    "\n",
    "To explore these two question we will utilize two differnt tools.\n",
    "1. Union Bound\n",
    "2. Hoeffding's Inequality\n",
    "\n"
   ]
  },
  {
   "cell_type": "code",
   "execution_count": null,
   "metadata": {},
   "outputs": [],
   "source": []
  }
 ],
 "metadata": {
  "kernelspec": {
   "display_name": "Python 3",
   "language": "python",
   "name": "python3"
  },
  "language_info": {
   "codemirror_mode": {
    "name": "ipython",
    "version": 3
   },
   "file_extension": ".py",
   "mimetype": "text/x-python",
   "name": "python",
   "nbconvert_exporter": "python",
   "pygments_lexer": "ipython3",
   "version": "3.8.5"
  }
 },
 "nbformat": 4,
 "nbformat_minor": 4
}
