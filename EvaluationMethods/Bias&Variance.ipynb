{
 "cells": [
  {
   "cell_type": "markdown",
   "metadata": {},
   "source": [
    "## Bias and Variance\n",
    "\n",
    "When creating models we run into issues where we accidentally **overfit** the dataset. This just means that our model performs perfectly on the training set but when its introduced to the testing data it is unable to uphold its accuracy.\n",
    "A model can also **underfit** when it does not capture the trends of the dataset properly.\n",
    "\n",
    "In general\n",
    "- Models with high **bias** tend to underfit\n",
    "- Models with high **variance** tend to overfit"
   ]
  },
  {
   "cell_type": "markdown",
   "metadata": {},
   "source": [
    "## Regularization\n",
    "Regularization is a technique used to solve overfitting. The way it works is that it regularizes or shrinks the coefficient estimates towards zero. This reduces the complexity of the model to make sure that it does not overfit the data. "
   ]
  },
  {
   "cell_type": "markdown",
   "metadata": {},
   "source": [
    "### Preprocessing Step\n",
    "A general step in pre-processing a large dataset is to normalize it. In order to do this we subtract by the mean and divide it by the standard deviation. This also allows us to have a standard lambda when we use our regularization technique. This also makes gradient decent run a lot faster and efficiently."
   ]
  },
  {
   "cell_type": "markdown",
   "metadata": {},
   "source": [
    "### Frequentist vs Bayesian\n",
    "![Frequentist vs Bayesian](https://miro.medium.com/max/1868/1*tNTGSCBL2yJt85FVa_oRLQ.png)"
   ]
  },
  {
   "cell_type": "markdown",
   "metadata": {},
   "source": [
    "### Data Splits\n",
    "This is a method of splitting the dataset into train, development and test groups. Then we would train the model on the train dataset and get some hypothesis and then measure the error using the development dataset. After doing this we then pick the model with the lowest error on the development set. "
   ]
  }
 ],
 "metadata": {
  "kernelspec": {
   "display_name": "Python 3",
   "language": "python",
   "name": "python3"
  },
  "language_info": {
   "codemirror_mode": {
    "name": "ipython",
    "version": 3
   },
   "file_extension": ".py",
   "mimetype": "text/x-python",
   "name": "python",
   "nbconvert_exporter": "python",
   "pygments_lexer": "ipython3",
   "version": "3.8.5"
  }
 },
 "nbformat": 4,
 "nbformat_minor": 4
}
