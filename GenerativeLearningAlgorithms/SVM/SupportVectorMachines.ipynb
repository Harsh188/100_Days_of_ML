{
 "cells": [
  {
   "cell_type": "markdown",
   "metadata": {},
   "source": [
    "# Support Vector Machines\n",
    "Support vector machines are super useful when trying to classify non-linear classificaiton models. Support vector machines don't have too many parameters to tune which makes it a very user friendly algorithm. In simple terms we can define the SVM as an optimial margin classifier with a kernel."
   ]
  },
  {
   "cell_type": "markdown",
   "metadata": {},
   "source": [
    "## Margin\n",
    "The main goal of support vector machines is to maximize the distance from the edge nodes to the decision boundry. This distance is called the margin. So we try to maximize the length of the margin for both classes. \n",
    "\n",
    "One type of maximizer that does this is known as the Maximum Margin Classifier. However Maximum Margin Classifiers are super sensitive to outliers so we allow misclassification.\n",
    "\n",
    "We can fix this by utilizing a Soft Max Classifer. This classifer allows misclassificaitons and uses support of two nodes. This is also known as Support Vector Classifiers. However this also has its flaws as it wont be able to classify data that is inbetween two sets.\n",
    "\n",
    "Finally we get to the Support Vector Machines. SVM's classify data by mapping it to higher dimensions. This allows them to classify any sort of data. "
   ]
  },
  {
   "cell_type": "markdown",
   "metadata": {},
   "source": [
    "## Kernel Functions\n",
    "To map a function to a higher dimention and do it accurately we use something known as kernel functions. It keeps track of an integer value that determines the higher dimension. We can find a good value for this integer by doing cross validation. "
   ]
  },
  {
   "cell_type": "markdown",
   "metadata": {},
   "source": [
    "The Kernel Trick\n",
    "\n",
    "1. Write your whole algorithm in temrs of <xi,xj>\n",
    "2. Let there be some mapping from x to phi(x)\n",
    "3. Find a way to compute k(x,z) = phi(x)T phi(z)\n",
    "4. Replace <x,z> with k(x,z)"
   ]
  },
  {
   "cell_type": "code",
   "execution_count": null,
   "metadata": {},
   "outputs": [],
   "source": []
  }
 ],
 "metadata": {
  "kernelspec": {
   "display_name": "Python 3",
   "language": "python",
   "name": "python3"
  },
  "language_info": {
   "codemirror_mode": {
    "name": "ipython",
    "version": 3
   },
   "file_extension": ".py",
   "mimetype": "text/x-python",
   "name": "python",
   "nbconvert_exporter": "python",
   "pygments_lexer": "ipython3",
   "version": "3.8.5"
  }
 },
 "nbformat": 4,
 "nbformat_minor": 4
}
