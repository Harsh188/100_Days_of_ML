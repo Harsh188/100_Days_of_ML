{
 "cells": [
  {
   "cell_type": "markdown",
   "metadata": {},
   "source": [
    "# Generative vs Discriminative\n",
    "\n",
    "A discriminative learning model learns $ p(y|x) $ or learns some sort of function mapping. In contrast, a generative learning algorithm learns $ p(x|y) $."
   ]
  },
  {
   "cell_type": "markdown",
   "metadata": {},
   "source": [
    "## Bayes Rule\n",
    "$$ p(y=1|x) = (p(x|y=1)p(y=1))/p(x) $$\n",
    "$$ p(x) = p(x|y=1)p(y=1) + p(x|y=0)p(y=0) $$"
   ]
  },
  {
   "cell_type": "markdown",
   "metadata": {},
   "source": [
    "## Gaussian Discriminant Analysis\n",
    "In one dimentional terms, a gaussian distribution is just a bell curve. This distribution can also be represented in multi dimentions where the sigma and mean matrix control the way the probability distribution looks like."
   ]
  },
  {
   "cell_type": "markdown",
   "metadata": {},
   "source": [
    "# GDA Model\n",
    "\n",
    "The model is represented by $ p(x|y=0) $. There are three parameters, two differnt means and sigma. The difference between a generative model like this and a discriminative model is the function which we are trying to maximize."
   ]
  },
  {
   "cell_type": "markdown",
   "metadata": {},
   "source": [
    "In a discriminative model you choose a value for theta that maximizes a value y given x. However in a generative model you choose parameters to maximize x and y. "
   ]
  },
  {
   "cell_type": "markdown",
   "metadata": {},
   "source": []
  }
 ],
 "metadata": {
  "kernelspec": {
   "display_name": "Python 3",
   "language": "python",
   "name": "python3"
  },
  "language_info": {
   "codemirror_mode": {
    "name": "ipython",
    "version": 3
   },
   "file_extension": ".py",
   "mimetype": "text/x-python",
   "name": "python",
   "nbconvert_exporter": "python",
   "pygments_lexer": "ipython3",
   "version": "3.8.5"
  }
 },
 "nbformat": 4,
 "nbformat_minor": 4
}
