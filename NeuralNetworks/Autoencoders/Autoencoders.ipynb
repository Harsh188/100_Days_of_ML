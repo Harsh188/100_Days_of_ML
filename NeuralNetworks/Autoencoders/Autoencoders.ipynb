{
 "cells": [
  {
   "cell_type": "markdown",
   "metadata": {},
   "source": [
    "# Autoencoders\n",
    "Autoencoders are neural networks designed for unsupervised learning."
   ]
  },
  {
   "cell_type": "markdown",
   "metadata": {},
   "source": [
    "Credits:\n",
    "[Auto-Encoder: What Is It? And What Is It Used For? (Part 1)](https://towardsdatascience.com/auto-encoder-what-is-it-and-what-is-it-used-for-part-1-3e5c6f017726)"
   ]
  },
  {
   "cell_type": "markdown",
   "metadata": {},
   "source": [
    "## What do autoencoders do?\n",
    "Autoencoders first encode a given input into a representation of a smaller dimension. A decoder than can be used to reconstruct the input back from the encoded form."
   ]
  },
  {
   "cell_type": "markdown",
   "metadata": {},
   "source": [
    "## Components\n",
    "There are four main parts for an Autoencoder network:\n",
    "\n",
    "1. **Encoder**: In this section the model learns how to reduce the input dimensions and compress the input data into an encoded representation.\n",
    "\n",
    "\n",
    "2. **Bottleneck**: This is a layer that contains the compressed representation fo the input data. It is the lowest possible dimension of the input data.\n",
    "\n",
    "\n",
    "3. **Decoder**: In this section the model learns how to reconstruct the data from the encoded representation to be as close to the original output.\n",
    "\n",
    "\n",
    "4. **Reconstruction Loss**: In this section the model measures how well the decoder is performing and how close the output is to the original input.\n"
   ]
  },
  {
   "cell_type": "markdown",
   "metadata": {},
   "source": [
    "## Applications\n",
    "There are two significant applications which autoencoders are popular for:\n",
    "1. Anomaly Detection\n",
    "2. Image Denoising"
   ]
  },
  {
   "cell_type": "code",
   "execution_count": null,
   "metadata": {},
   "outputs": [],
   "source": []
  }
 ],
 "metadata": {
  "kernelspec": {
   "display_name": "Python 3",
   "language": "python",
   "name": "python3"
  },
  "language_info": {
   "codemirror_mode": {
    "name": "ipython",
    "version": 3
   },
   "file_extension": ".py",
   "mimetype": "text/x-python",
   "name": "python",
   "nbconvert_exporter": "python",
   "pygments_lexer": "ipython3",
   "version": "3.8.5"
  }
 },
 "nbformat": 4,
 "nbformat_minor": 4
}
