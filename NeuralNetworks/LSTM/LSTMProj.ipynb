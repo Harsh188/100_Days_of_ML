{
 "cells": [
  {
   "cell_type": "markdown",
   "metadata": {},
   "source": [
    "# LSTM Mini Project"
   ]
  },
  {
   "cell_type": "markdown",
   "metadata": {},
   "source": [
    "## Imports"
   ]
  },
  {
   "cell_type": "code",
   "execution_count": 2,
   "metadata": {},
   "outputs": [],
   "source": [
    "import pandas as pd\n",
    "import numpy as np\n",
    "from matplotlib import pyplot as plt\n",
    "import tensorflow as tf\n",
    "\n",
    "from tensorflow.keras.models import Sequential\n",
    "from tensorflow.keras.layers import Dense, BatchNormalization, Dropout, Activation\n",
    "from tensorflow.keras.layers import LSTM, GRU\n",
    "from sklearn.metrics import mean_squared_error\n",
    "from tensorflow.keras.optimizers import Adam, SGD, RMSprop\n",
    "from sklearn.preprocessing import MinMaxScaler"
   ]
  },
  {
   "cell_type": "markdown",
   "metadata": {},
   "source": [
    "## Dataset"
   ]
  },
  {
   "cell_type": "code",
   "execution_count": 9,
   "metadata": {},
   "outputs": [
    {
     "data": {
      "text/plain": [
       "date       object\n",
       "symbol     object\n",
       "open      float64\n",
       "close     float64\n",
       "low       float64\n",
       "high      float64\n",
       "volume    float64\n",
       "dtype: object"
      ]
     },
     "execution_count": 9,
     "metadata": {},
     "output_type": "execute_result"
    }
   ],
   "source": [
    "stock_data = pd.read_csv('../../DataSets/prices.csv')\n",
    "\n",
    "stock_data.head(2)\n",
    "stock_data.dtypes"
   ]
  },
  {
   "cell_type": "code",
   "execution_count": 10,
   "metadata": {},
   "outputs": [
    {
     "data": {
      "text/plain": [
       "date      0\n",
       "symbol    0\n",
       "open      0\n",
       "close     0\n",
       "low       0\n",
       "high      0\n",
       "volume    0\n",
       "dtype: int64"
      ]
     },
     "execution_count": 10,
     "metadata": {},
     "output_type": "execute_result"
    }
   ],
   "source": [
    "stock_data['date'].min(), stock_data['date'].max(), stock_data.symbol.nunique()\n",
    "\n",
    "stock_data.isnull().sum()"
   ]
  },
  {
   "cell_type": "code",
   "execution_count": 12,
   "metadata": {},
   "outputs": [],
   "source": [
    "len(stock_data.close.values)\n",
    "\n",
    "subset_stock=stock_data.loc[(stock_data['symbol']=='MSFT'), 'close'].values.astype('float32')\n",
    "\n",
    "closing_price = subset_stock.reshape(-1,1)"
   ]
  },
  {
   "cell_type": "markdown",
   "metadata": {},
   "source": [
    "## Data Pre-processing"
   ]
  },
  {
   "cell_type": "code",
   "execution_count": 20,
   "metadata": {},
   "outputs": [
    {
     "data": {
      "text/plain": [
       "(438, (438, 2), 438, (438,))"
      ]
     },
     "execution_count": 20,
     "metadata": {},
     "output_type": "execute_result"
    }
   ],
   "source": [
    "scaler = MinMaxScaler(feature_range=(0,1))\n",
    "norm_close_prices = scaler.fit_transform(closing_price)\n",
    "\n",
    "train_val = int(len(norm_close_prices)*0.75)\n",
    "test_val = len(norm_close_prices)-train_val\n",
    "train_set = closing_price[0:train_val]\n",
    "test_set = closing_price[train_val:]\n",
    "\n",
    "def time_lag_generator(inputdata, features):\n",
    "    X, Y = [], []\n",
    "    for val in range(len(inputdata)-features-1):\n",
    "        a = inputdata[val: (val+features),0]\n",
    "        X.append(a)\n",
    "        Y.append(inputdata[val+features,0])\n",
    "    return np.array(X), np.array(Y)\n",
    "\n",
    "features = 2\n",
    "train_features, train_label = time_lag_generator(train_set, 2)\n",
    "test_features, test_label = time_lag_generator(test_set, 2)\n",
    "len(test_features), test_features.shape, len(test_label), test_label.shape"
   ]
  },
  {
   "cell_type": "markdown",
   "metadata": {},
   "source": [
    "## Model"
   ]
  },
  {
   "cell_type": "code",
   "execution_count": 21,
   "metadata": {},
   "outputs": [
    {
     "data": {
      "text/plain": [
       "(438, 1, 2)"
      ]
     },
     "execution_count": 21,
     "metadata": {},
     "output_type": "execute_result"
    }
   ],
   "source": [
    "train_features = train_features.reshape(train_features.shape[0],1,train_features.shape[1])\n",
    "train_features.shape\n",
    "\n",
    "test_features = test_features.reshape(test_features.shape[0],1,test_features.shape[1])\n",
    "test_features.shape"
   ]
  },
  {
   "cell_type": "code",
   "execution_count": 24,
   "metadata": {},
   "outputs": [
    {
     "name": "stdout",
     "output_type": "stream",
     "text": [
      "Model: \"sequential_2\"\n",
      "_________________________________________________________________\n",
      "Layer (type)                 Output Shape              Param #   \n",
      "=================================================================\n",
      "gru_1 (GRU)                  (None, 1, 256)            199680    \n",
      "_________________________________________________________________\n",
      "dropout_2 (Dropout)          (None, 1, 256)            0         \n",
      "_________________________________________________________________\n",
      "lstm_1 (LSTM)                (None, 256)               525312    \n",
      "_________________________________________________________________\n",
      "dropout_3 (Dropout)          (None, 256)               0         \n",
      "_________________________________________________________________\n",
      "dense_1 (Dense)              (None, 64)                16448     \n",
      "_________________________________________________________________\n",
      "dense_2 (Dense)              (None, 1)                 65        \n",
      "=================================================================\n",
      "Total params: 741,505\n",
      "Trainable params: 741,505\n",
      "Non-trainable params: 0\n",
      "_________________________________________________________________\n"
     ]
    }
   ],
   "source": [
    "model = Sequential()\n",
    "model.add(GRU(256, input_shape=(1,features), return_sequences=True))\n",
    "model.add(Dropout(0.25))\n",
    "model.add(LSTM(256))\n",
    "model.add(Dropout(0.25))\n",
    "model.add(Dense(64, activation='relu'))\n",
    "model.add(Dense(1))\n",
    "model.summary()"
   ]
  },
  {
   "cell_type": "code",
   "execution_count": 25,
   "metadata": {},
   "outputs": [
    {
     "name": "stdout",
     "output_type": "stream",
     "text": [
      "Epoch 1/70\n",
      "11/11 [==============================] - 1s 67ms/step - loss: 1007.1160 - mean_squared_error: 1007.1160 - val_loss: 2369.7117 - val_mean_squared_error: 2369.7117\n",
      "Epoch 2/70\n",
      "11/11 [==============================] - 0s 11ms/step - loss: 736.5596 - mean_squared_error: 736.5596 - val_loss: 1724.5099 - val_mean_squared_error: 1724.5099\n",
      "Epoch 3/70\n",
      "11/11 [==============================] - 0s 11ms/step - loss: 368.2510 - mean_squared_error: 368.2510 - val_loss: 991.9435 - val_mean_squared_error: 991.9435\n",
      "Epoch 4/70\n",
      "11/11 [==============================] - 0s 11ms/step - loss: 105.0223 - mean_squared_error: 105.0223 - val_loss: 471.0670 - val_mean_squared_error: 471.0670\n",
      "Epoch 5/70\n",
      "11/11 [==============================] - 0s 11ms/step - loss: 46.8920 - mean_squared_error: 46.8920 - val_loss: 295.5989 - val_mean_squared_error: 295.5989\n",
      "Epoch 6/70\n",
      "11/11 [==============================] - 0s 12ms/step - loss: 52.6451 - mean_squared_error: 52.6451 - val_loss: 340.7141 - val_mean_squared_error: 340.7141\n",
      "Epoch 7/70\n",
      "11/11 [==============================] - 0s 11ms/step - loss: 45.2056 - mean_squared_error: 45.2056 - val_loss: 413.9189 - val_mean_squared_error: 413.9189\n",
      "Epoch 8/70\n",
      "11/11 [==============================] - 0s 11ms/step - loss: 44.5679 - mean_squared_error: 44.5679 - val_loss: 430.1094 - val_mean_squared_error: 430.1094\n",
      "Epoch 9/70\n",
      "11/11 [==============================] - 0s 13ms/step - loss: 44.1097 - mean_squared_error: 44.1097 - val_loss: 404.8495 - val_mean_squared_error: 404.8495\n",
      "Epoch 10/70\n",
      "11/11 [==============================] - 0s 14ms/step - loss: 43.7488 - mean_squared_error: 43.7488 - val_loss: 387.9033 - val_mean_squared_error: 387.9033\n",
      "Epoch 11/70\n",
      "11/11 [==============================] - 0s 12ms/step - loss: 43.3789 - mean_squared_error: 43.3789 - val_loss: 381.4333 - val_mean_squared_error: 381.4333\n",
      "Epoch 12/70\n",
      "11/11 [==============================] - 0s 14ms/step - loss: 42.6645 - mean_squared_error: 42.6645 - val_loss: 383.8474 - val_mean_squared_error: 383.8474\n",
      "Epoch 13/70\n",
      "11/11 [==============================] - 0s 11ms/step - loss: 41.3044 - mean_squared_error: 41.3044 - val_loss: 371.3140 - val_mean_squared_error: 371.3140\n",
      "Epoch 14/70\n",
      "11/11 [==============================] - 0s 11ms/step - loss: 39.4447 - mean_squared_error: 39.4447 - val_loss: 365.7979 - val_mean_squared_error: 365.7979\n",
      "Epoch 15/70\n",
      "11/11 [==============================] - 0s 11ms/step - loss: 36.1863 - mean_squared_error: 36.1863 - val_loss: 344.1270 - val_mean_squared_error: 344.1270\n",
      "Epoch 16/70\n",
      "11/11 [==============================] - 0s 11ms/step - loss: 31.9281 - mean_squared_error: 31.9281 - val_loss: 308.2235 - val_mean_squared_error: 308.2235\n",
      "Epoch 17/70\n",
      "11/11 [==============================] - 0s 11ms/step - loss: 25.1576 - mean_squared_error: 25.1576 - val_loss: 243.3474 - val_mean_squared_error: 243.3474\n",
      "Epoch 18/70\n",
      "11/11 [==============================] - 0s 11ms/step - loss: 17.6705 - mean_squared_error: 17.6705 - val_loss: 181.7275 - val_mean_squared_error: 181.7275\n",
      "Epoch 19/70\n",
      "11/11 [==============================] - 0s 11ms/step - loss: 10.8581 - mean_squared_error: 10.8581 - val_loss: 127.4070 - val_mean_squared_error: 127.4070\n",
      "Epoch 20/70\n",
      "11/11 [==============================] - 0s 13ms/step - loss: 6.9578 - mean_squared_error: 6.9578 - val_loss: 92.3550 - val_mean_squared_error: 92.3550\n",
      "Epoch 21/70\n",
      "11/11 [==============================] - 0s 11ms/step - loss: 5.2876 - mean_squared_error: 5.2876 - val_loss: 72.5068 - val_mean_squared_error: 72.5068\n",
      "Epoch 22/70\n",
      "11/11 [==============================] - 0s 11ms/step - loss: 4.9055 - mean_squared_error: 4.9055 - val_loss: 67.3660 - val_mean_squared_error: 67.3660\n",
      "Epoch 23/70\n",
      "11/11 [==============================] - 0s 11ms/step - loss: 5.0122 - mean_squared_error: 5.0122 - val_loss: 57.1201 - val_mean_squared_error: 57.1201\n",
      "Epoch 24/70\n",
      "11/11 [==============================] - 0s 11ms/step - loss: 4.4124 - mean_squared_error: 4.4124 - val_loss: 61.7691 - val_mean_squared_error: 61.7691\n",
      "Epoch 25/70\n",
      "11/11 [==============================] - 0s 11ms/step - loss: 4.2860 - mean_squared_error: 4.2860 - val_loss: 50.9170 - val_mean_squared_error: 50.9170\n",
      "Epoch 26/70\n",
      "11/11 [==============================] - 0s 11ms/step - loss: 4.1571 - mean_squared_error: 4.1571 - val_loss: 50.0583 - val_mean_squared_error: 50.0583\n",
      "Epoch 27/70\n",
      "11/11 [==============================] - 0s 11ms/step - loss: 4.2749 - mean_squared_error: 4.2749 - val_loss: 50.2724 - val_mean_squared_error: 50.2724\n",
      "Epoch 28/70\n",
      "11/11 [==============================] - 0s 11ms/step - loss: 4.2533 - mean_squared_error: 4.2533 - val_loss: 44.4604 - val_mean_squared_error: 44.4604\n",
      "Epoch 29/70\n",
      "11/11 [==============================] - 0s 11ms/step - loss: 3.7181 - mean_squared_error: 3.7181 - val_loss: 43.8702 - val_mean_squared_error: 43.8702\n",
      "Epoch 30/70\n",
      "11/11 [==============================] - 0s 11ms/step - loss: 3.6593 - mean_squared_error: 3.6593 - val_loss: 41.5909 - val_mean_squared_error: 41.5909\n",
      "Epoch 31/70\n",
      "11/11 [==============================] - 0s 11ms/step - loss: 3.9272 - mean_squared_error: 3.9272 - val_loss: 37.2933 - val_mean_squared_error: 37.2933\n",
      "Epoch 32/70\n",
      "11/11 [==============================] - 0s 11ms/step - loss: 3.6802 - mean_squared_error: 3.6802 - val_loss: 37.1969 - val_mean_squared_error: 37.1969\n",
      "Epoch 33/70\n",
      "11/11 [==============================] - 0s 11ms/step - loss: 3.3819 - mean_squared_error: 3.3819 - val_loss: 38.5913 - val_mean_squared_error: 38.5913\n",
      "Epoch 34/70\n",
      "11/11 [==============================] - 0s 13ms/step - loss: 3.4225 - mean_squared_error: 3.4225 - val_loss: 34.1730 - val_mean_squared_error: 34.1730\n",
      "Epoch 35/70\n",
      "11/11 [==============================] - 0s 15ms/step - loss: 3.2564 - mean_squared_error: 3.2564 - val_loss: 35.0168 - val_mean_squared_error: 35.0168\n",
      "Epoch 36/70\n",
      "11/11 [==============================] - 0s 13ms/step - loss: 3.4370 - mean_squared_error: 3.4370 - val_loss: 34.8160 - val_mean_squared_error: 34.8160\n",
      "Epoch 37/70\n",
      "11/11 [==============================] - 0s 11ms/step - loss: 3.0438 - mean_squared_error: 3.0438 - val_loss: 30.7581 - val_mean_squared_error: 30.7581\n",
      "Epoch 38/70\n",
      "11/11 [==============================] - 0s 11ms/step - loss: 3.3966 - mean_squared_error: 3.3966 - val_loss: 34.5766 - val_mean_squared_error: 34.5766\n",
      "Epoch 39/70\n",
      "11/11 [==============================] - 0s 11ms/step - loss: 3.2489 - mean_squared_error: 3.2489 - val_loss: 29.9173 - val_mean_squared_error: 29.9173\n",
      "Epoch 40/70\n",
      "11/11 [==============================] - 0s 11ms/step - loss: 3.0029 - mean_squared_error: 3.0029 - val_loss: 29.9627 - val_mean_squared_error: 29.9627\n",
      "Epoch 41/70\n",
      "11/11 [==============================] - 0s 10ms/step - loss: 2.9770 - mean_squared_error: 2.9770 - val_loss: 29.3330 - val_mean_squared_error: 29.3330\n",
      "Epoch 42/70\n",
      "11/11 [==============================] - 0s 11ms/step - loss: 3.2390 - mean_squared_error: 3.2390 - val_loss: 26.8599 - val_mean_squared_error: 26.8599\n",
      "Epoch 43/70\n",
      "11/11 [==============================] - 0s 11ms/step - loss: 3.1009 - mean_squared_error: 3.1009 - val_loss: 27.2104 - val_mean_squared_error: 27.2104\n",
      "Epoch 44/70\n",
      "11/11 [==============================] - 0s 11ms/step - loss: 3.2479 - mean_squared_error: 3.2479 - val_loss: 25.5478 - val_mean_squared_error: 25.5478\n",
      "Epoch 45/70\n",
      "11/11 [==============================] - 0s 11ms/step - loss: 2.9922 - mean_squared_error: 2.9922 - val_loss: 26.2837 - val_mean_squared_error: 26.2837\n",
      "Epoch 46/70\n",
      "11/11 [==============================] - 0s 11ms/step - loss: 2.9749 - mean_squared_error: 2.9749 - val_loss: 27.1110 - val_mean_squared_error: 27.1110\n",
      "Epoch 47/70\n",
      "11/11 [==============================] - 0s 11ms/step - loss: 3.1691 - mean_squared_error: 3.1691 - val_loss: 23.8194 - val_mean_squared_error: 23.8194\n",
      "Epoch 48/70\n",
      "11/11 [==============================] - 0s 11ms/step - loss: 2.9626 - mean_squared_error: 2.9626 - val_loss: 24.3991 - val_mean_squared_error: 24.3991\n",
      "Epoch 49/70\n",
      "11/11 [==============================] - 0s 10ms/step - loss: 2.9425 - mean_squared_error: 2.9425 - val_loss: 23.0678 - val_mean_squared_error: 23.0678\n",
      "Epoch 50/70\n"
     ]
    },
    {
     "name": "stdout",
     "output_type": "stream",
     "text": [
      "11/11 [==============================] - 0s 11ms/step - loss: 2.8805 - mean_squared_error: 2.8805 - val_loss: 24.1417 - val_mean_squared_error: 24.1417\n",
      "Epoch 51/70\n",
      "11/11 [==============================] - 0s 10ms/step - loss: 3.1800 - mean_squared_error: 3.1800 - val_loss: 24.0538 - val_mean_squared_error: 24.0538\n",
      "Epoch 52/70\n",
      "11/11 [==============================] - 0s 10ms/step - loss: 2.7963 - mean_squared_error: 2.7963 - val_loss: 22.8983 - val_mean_squared_error: 22.8983\n",
      "Epoch 53/70\n",
      "11/11 [==============================] - 0s 10ms/step - loss: 2.9698 - mean_squared_error: 2.9698 - val_loss: 23.0110 - val_mean_squared_error: 23.0110\n",
      "Epoch 54/70\n",
      "11/11 [==============================] - 0s 10ms/step - loss: 2.9108 - mean_squared_error: 2.9108 - val_loss: 22.4467 - val_mean_squared_error: 22.4467\n",
      "Epoch 55/70\n",
      "11/11 [==============================] - 0s 11ms/step - loss: 2.8445 - mean_squared_error: 2.8445 - val_loss: 21.1447 - val_mean_squared_error: 21.1447\n",
      "Epoch 56/70\n",
      "11/11 [==============================] - 0s 10ms/step - loss: 2.8022 - mean_squared_error: 2.8022 - val_loss: 20.3113 - val_mean_squared_error: 20.3113\n",
      "Epoch 57/70\n",
      "11/11 [==============================] - 0s 10ms/step - loss: 2.6536 - mean_squared_error: 2.6536 - val_loss: 20.1609 - val_mean_squared_error: 20.1609\n",
      "Epoch 58/70\n",
      "11/11 [==============================] - 0s 10ms/step - loss: 2.8206 - mean_squared_error: 2.8206 - val_loss: 21.4258 - val_mean_squared_error: 21.4258\n",
      "Epoch 59/70\n",
      "11/11 [==============================] - 0s 10ms/step - loss: 2.9254 - mean_squared_error: 2.9254 - val_loss: 21.4161 - val_mean_squared_error: 21.4161\n",
      "Epoch 60/70\n",
      "11/11 [==============================] - 0s 10ms/step - loss: 2.6372 - mean_squared_error: 2.6372 - val_loss: 21.5523 - val_mean_squared_error: 21.5523\n",
      "Epoch 61/70\n",
      "11/11 [==============================] - 0s 10ms/step - loss: 2.8746 - mean_squared_error: 2.8746 - val_loss: 19.7965 - val_mean_squared_error: 19.7965\n",
      "Epoch 62/70\n",
      "11/11 [==============================] - 0s 10ms/step - loss: 2.8376 - mean_squared_error: 2.8376 - val_loss: 22.3629 - val_mean_squared_error: 22.3629\n",
      "Epoch 63/70\n",
      "11/11 [==============================] - 0s 10ms/step - loss: 2.9090 - mean_squared_error: 2.9090 - val_loss: 17.9230 - val_mean_squared_error: 17.9230\n",
      "Epoch 64/70\n",
      "11/11 [==============================] - 0s 10ms/step - loss: 2.7404 - mean_squared_error: 2.7404 - val_loss: 21.1709 - val_mean_squared_error: 21.1709\n",
      "Epoch 65/70\n",
      "11/11 [==============================] - 0s 11ms/step - loss: 2.8551 - mean_squared_error: 2.8551 - val_loss: 16.5683 - val_mean_squared_error: 16.5683\n",
      "Epoch 66/70\n",
      "11/11 [==============================] - 0s 12ms/step - loss: 3.2781 - mean_squared_error: 3.2781 - val_loss: 23.7023 - val_mean_squared_error: 23.7023\n",
      "Epoch 67/70\n",
      "11/11 [==============================] - 0s 11ms/step - loss: 3.0197 - mean_squared_error: 3.0197 - val_loss: 17.7754 - val_mean_squared_error: 17.7754\n",
      "Epoch 68/70\n",
      "11/11 [==============================] - 0s 10ms/step - loss: 2.6801 - mean_squared_error: 2.6801 - val_loss: 20.4096 - val_mean_squared_error: 20.4096\n",
      "Epoch 69/70\n",
      "11/11 [==============================] - 0s 10ms/step - loss: 2.6109 - mean_squared_error: 2.6109 - val_loss: 21.3627 - val_mean_squared_error: 21.3627\n",
      "Epoch 70/70\n",
      "11/11 [==============================] - 0s 10ms/step - loss: 2.5464 - mean_squared_error: 2.5464 - val_loss: 19.6011 - val_mean_squared_error: 19.6011\n"
     ]
    }
   ],
   "source": [
    "model.compile(loss=\"mean_squared_error\", optimizer=Adam(0.0005), metrics=['mean_squared_error'])\n",
    "results = model.fit(train_features, train_label, epochs=70, batch_size=128, validation_data=(test_features, test_label))"
   ]
  },
  {
   "cell_type": "markdown",
   "metadata": {},
   "source": [
    "## Results"
   ]
  },
  {
   "cell_type": "code",
   "execution_count": 26,
   "metadata": {},
   "outputs": [
    {
     "data": {
      "text/plain": [
       "<matplotlib.legend.Legend at 0x7fa9d49e94f0>"
      ]
     },
     "execution_count": 26,
     "metadata": {},
     "output_type": "execute_result"
    },
    {
     "data": {
      "image/png": "[encoded data removed]",
      "text/plain": [
       "<Figure size 432x288 with 1 Axes>"
      ]
     },
     "metadata": {
      "needs_background": "light"
     },
     "output_type": "display_data"
    }
   ],
   "source": [
    "plt.plot(results.history['mean_squared_error'])\n",
    "plt.plot(results.history['val_mean_squared_error'])\n",
    "plt.title('train vs test error comparison')\n",
    "plt.xlabel('number of epochs')\n",
    "plt.ylabel('Loss/error')\n",
    "plt.legend(['train','val'])"
   ]
  },
  {
   "cell_type": "code",
   "execution_count": null,
   "metadata": {},
   "outputs": [],
   "source": []
  }
 ],
 "metadata": {
  "kernelspec": {
   "display_name": "Python 3",
   "language": "python",
   "name": "python3"
  },
  "language_info": {
   "codemirror_mode": {
    "name": "ipython",
    "version": 3
   },
   "file_extension": ".py",
   "mimetype": "text/x-python",
   "name": "python",
   "nbconvert_exporter": "python",
   "pygments_lexer": "ipython3",
   "version": "3.8.5"
  }
 },
 "nbformat": 4,
 "nbformat_minor": 4
}
