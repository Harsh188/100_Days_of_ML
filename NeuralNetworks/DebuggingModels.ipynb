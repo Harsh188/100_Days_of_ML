{
 "cells": [
  {
   "cell_type": "markdown",
   "metadata": {},
   "source": [
    "# Debugging ML Models and Error Analysis"
   ]
  },
  {
   "cell_type": "markdown",
   "metadata": {},
   "source": [
    "## Fixing the learning algorithm\n",
    "Try improving the algorithm in differnt ways:\n",
    "- Try getting more training examples\n",
    "- Try a smaller set of features\n",
    "- Try changing the features\n",
    "- Run gradient decent for more iterations\n",
    "- Try Newton's method\n",
    "- Use a differnt value for lambda\n",
    "- Try using a SVM\n",
    "Most people randomly pick one of these options and try to fix the problem. But first we should brainstorm before we go down one path."
   ]
  },
  {
   "cell_type": "markdown",
   "metadata": {},
   "source": [
    "### Bias vs Variance Dignostics\n",
    "One of the most common dignostics technique to evaluating your model and trying to **debug** it.\n",
    "Suppose you suspect the problem is either:\n",
    "- Overfitting (high variance)\n",
    "- Too few features to classify spam (high bias)\n",
    "Diagnostic:\n",
    "- Variance: Training error will be much lower than test error.\n",
    "- Bias: Training error will also be high."
   ]
  },
  {
   "cell_type": "markdown",
   "metadata": {},
   "source": [
    "### Other common questions\n",
    "- Is the algorithm converging?\n",
    "- Are you optimizing the right function?\n",
    "- Logistic regression? Correct value for lambda?\n",
    "- SVM? Correct value for C?"
   ]
  },
  {
   "cell_type": "code",
   "execution_count": null,
   "metadata": {},
   "outputs": [],
   "source": []
  }
 ],
 "metadata": {
  "kernelspec": {
   "display_name": "Python 3",
   "language": "python",
   "name": "python3"
  },
  "language_info": {
   "codemirror_mode": {
    "name": "ipython",
    "version": 3
   },
   "file_extension": ".py",
   "mimetype": "text/x-python",
   "name": "python",
   "nbconvert_exporter": "python",
   "pygments_lexer": "ipython3",
   "version": "3.8.5"
  }
 },
 "nbformat": 4,
 "nbformat_minor": 4
}
